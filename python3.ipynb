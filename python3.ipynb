{
 "cells": [
  {
   "cell_type": "markdown",
   "metadata": {},
   "source": [
    "# Python3"
   ]
  },
  {
   "cell_type": "markdown",
   "metadata": {},
   "source": [
    "## functions\n",
    "- Reference [python funcions](https://docs.python.org/ko/3.13/library/functions.html)\n",
    "- with [colab](https://colab.research.google.com/github/sunmid/note/blob/main/python3.ipynb)"
   ]
  },
  {
   "cell_type": "markdown",
   "metadata": {},
   "source": [
    "### abs(x)\n",
    "Return the absolute value of a number. The argument may be an integer, a floating-point number, or an object implementing __abs__(). If the argument is a complex number, its magnitude is returned."
   ]
  },
  {
   "cell_type": "code",
   "execution_count": 6,
   "metadata": {},
   "outputs": [
    {
     "data": {
      "text/plain": [
       "4.5"
      ]
     },
     "execution_count": 6,
     "metadata": {},
     "output_type": "execute_result"
    }
   ],
   "source": [
    "abs(-4.5)"
   ]
  },
  {
   "cell_type": "markdown",
   "metadata": {},
   "source": [
    "### aiter(async_iterable)\n",
    "Return an asynchronous iterator for an asynchronous iterable. Equivalent to calling x.__aiter__().\n",
    "\n",
    "Note: Unlike iter(), aiter() has no 2-argument variant.\n",
    "\n",
    ">Added in version 3.10."
   ]
  },
  {
   "cell_type": "code",
   "execution_count": null,
   "metadata": {},
   "outputs": [
    {
     "name": "stdout",
     "output_type": "stream",
     "text": [
      "0\n",
      "1\n",
      "2\n",
      "3\n"
     ]
    }
   ],
   "source": [
    "async def async_generator():\n",
    "    for num in range(4):\n",
    "        await asyncio.sleep(1)  # Simulate async operation\n",
    "        yield num\n",
    "\n",
    "async for num in aiter(async_generator()):  # Use aiter() explicitly\n",
    "    print(num)"
   ]
  },
  {
   "cell_type": "markdown",
   "metadata": {},
   "source": [
    "### all(iterable)\n",
    "iterable 의 모든 요소가 참이면 (또는 iterable 이 비어있으면) True "
   ]
  },
  {
   "cell_type": "code",
   "execution_count": null,
   "metadata": {},
   "outputs": [],
   "source": [
    "my_list = [False, True, True]\n",
    "result = all(my_list)\n",
    "print(result)  "
   ]
  },
  {
   "cell_type": "markdown",
   "metadata": {},
   "source": [
    "### awaitable anext(async_iterator)\n",
    "awaitable anext(async_iterator, default)\n",
    "When awaited, return the next item from the given asynchronous iterator, or default if given and the iterator is exhausted.\n",
    "\n",
    "This is the async variant of the next() builtin, and behaves similarly.\n",
    "\n",
    "This calls the __anext__() method of async_iterator, returning an awaitable. Awaiting this returns the next value of the iterator. If default is given, it is returned if the iterator is exhausted, otherwise StopAsyncIteration is raised.\n",
    "\n",
    ">Added in version 3.10."
   ]
  },
  {
   "cell_type": "code",
   "execution_count": 1,
   "metadata": {},
   "outputs": [
    {
     "name": "stdout",
     "output_type": "stream",
     "text": [
      "0\n",
      "1\n",
      "2\n",
      "3\n"
     ]
    }
   ],
   "source": [
    "async def async_generator():\n",
    "    for num in range(4):\n",
    "        yield num\n",
    "\n",
    "async_generator = aiter(async_generator())\n",
    "\n",
    "while True:\n",
    "    try:\n",
    "        value = await anext(async_generator)\n",
    "        print(value)\n",
    "    except StopAsyncIteration:\n",
    "        break"
   ]
  },
  {
   "cell_type": "markdown",
   "metadata": {},
   "source": [
    "### any(iterable)\n",
    "iterable 의 요소 중 어느 하나라도 참이면 True 를 돌려줍니다. iterable이 비어 있으면 False 를 돌려줍니다. 다음과 동등합니다:"
   ]
  },
  {
   "cell_type": "code",
   "execution_count": 3,
   "metadata": {},
   "outputs": [
    {
     "name": "stdout",
     "output_type": "stream",
     "text": [
      "False\n"
     ]
    }
   ],
   "source": [
    "my_list = [False, False, False]\n",
    "result = all(my_list)\n",
    "print(result)  "
   ]
  },
  {
   "cell_type": "markdown",
   "metadata": {},
   "source": [
    "### ascii(object)\n",
    "As repr(), return a string containing a printable representation of an object, but escape the non-ASCII characters in the string returned by repr() using \\x, \\u, or \\U escapes. This generates a string similar to that returned by repr() in Python 2."
   ]
  },
  {
   "cell_type": "code",
   "execution_count": 8,
   "metadata": {},
   "outputs": [
    {
     "name": "stdout",
     "output_type": "stream",
     "text": [
      "{'fruit': 'Pyth\\xf6n', 'number': 10}\n"
     ]
    }
   ],
   "source": [
    "sample_dict = {'fruit': 'Pythön', 'number': 10}\n",
    "result_dict = ascii(sample_dict)\n",
    "print(result_dict)"
   ]
  },
  {
   "cell_type": "markdown",
   "metadata": {},
   "source": [
    "### bin(x)\n",
    "Convert an integer number to a binary string prefixed with “0b”. The result is a valid Python expression. If x is not a Python int object, it has to define an \\__index__() method that returns an integer. Some examples:"
   ]
  },
  {
   "cell_type": "code",
   "execution_count": 1,
   "metadata": {},
   "outputs": [
    {
     "data": {
      "text/plain": [
       "'0b1010'"
      ]
     },
     "execution_count": 1,
     "metadata": {},
     "output_type": "execute_result"
    }
   ],
   "source": [
    "bin(10)"
   ]
  },
  {
   "cell_type": "markdown",
   "metadata": {},
   "source": [
    "### class bool(object=False, /)\n",
    "Return a Boolean value, i.e. one of True or False. The argument is converted using the standard truth testing procedure. If the argument is false or omitted, this returns False; otherwise, it returns True. The bool class is a subclass of int (see 숫자 형 — int, float, complex). It cannot be subclassed further. Its only instances are False and True (see Boolean Type - bool).\n",
    ">버전 3.7에서 변경: The parameter is now positional-only.\n",
    "\n",
    "```python\n",
    "print(bool([1, 2, 3])) # True\n",
    "print(bool([]))        # False\n",
    "print(bool({'key': 'value'}))  # True\n",
    "print(bool({}))       # False\n",
    "print(not True)  # False\n",
    "print(not False) # True\n",
    "x = 10\n",
    "y = 5\n",
    "print(x > 5 and y < 10)  # True\n",
    "print(x < 5 or y < 10)   # True\n",
    "```"
   ]
  },
  {
   "cell_type": "markdown",
   "metadata": {},
   "source": [
    "### breakpoint(*args, **kws)\n",
    "This function drops you into the debugger at the call site. Specifically, it calls sys.breakpointhook(), passing args and kws straight through. By default, sys.breakpointhook() calls pdb.set_trace() expecting no arguments. In this case, it is purely a convenience function so you don’t have to explicitly import pdb or type as much code to enter the debugger. However, sys.breakpointhook() can be set to some other function and breakpoint() will automatically call that, allowing you to drop into the debugger of choice. If sys.breakpointhook() is not accessible, this function will raise RuntimeError.\n",
    "\n",
    "By default, the behavior of breakpoint() can be changed with the PYTHONBREAKPOINT environment variable. See sys.breakpointhook() for usage details.\n",
    "\n",
    "Note that this is not guaranteed if sys.breakpointhook() has been replaced.\n",
    "\n",
    "breakpointhook을 인자로 감사 이벤트(auditing event) builtins.breakpoint를 발생시킵니다.\n",
    "\n",
    ">Added in version 3.7.\n",
    "\n",
    "```python\n",
    "def multiple_breakpoints(x):\n",
    "    result1 = x + 1\n",
    "    breakpoint()  # 첫 번째 중단점\n",
    "    result2 = result1 * 2\n",
    "    breakpoint()  # 두 번째 중단점\n",
    "    return result2\n",
    "print(multiple_breakpoints(5))\n",
    "\n",
    "import pdb\n",
    "def debug_sample(x):\n",
    "    result = x + 10\n",
    "    pdb.set_trace()  # 직접 설정한 중단점\n",
    "    return result\n",
    "\n",
    "print(debug_sample(5))\n",
    "```"
   ]
  },
  {
   "cell_type": "markdown",
   "metadata": {},
   "source": [
    "### class bytearray(source, encoding, errors)\n",
    "새로운 바이트 배열을 돌려줍니다. bytearray 클래스는 0 <= x < 256 범위에 있는 정수의 가변 시퀀스입니다. bytes 형이 가진 대부분의 메서드뿐만 아니라 (바이트열 과 바이트 배열 연산 를 보세요), 가변 시퀀스 형 에 기술된 가변 시퀀스의 일반적인 메서드 대부분을 갖고 있습니다.\n",
    "\n",
    "선택적 source 매개변수는 몇 가지 다른 방법으로 배열을 초기화하는 데 사용할 수 있습니다:\n",
    "\n",
    "문자열 이면, 반드시 encoding 매개변수도 제공해야 합니다 (그리고 선택적으로 errors 도); 그러면 bytearray() 는 str.encode() 를 사용하여 문자열을 바이트로 변환합니다.\n",
    "\n",
    "정수 면, 배열은 그 크기를 갖고, 널 바이트로 초기화됩니다.\n",
    "\n",
    "버퍼 인터페이스를 제공하는 객체면, 객체의 읽기 전용 버퍼가 바이트 배열을 초기화하는 데 사용됩니다.\n",
    "\n",
    "이터러블 이면, 범위 0 <= x < 256 의 정수를 제공하는 이터러블이어야 하고, 그 값들이 배열의 초기 내용물로 사용됩니다.\n",
    "\n",
    "인자가 없으면 크기 0의 배열이 만들어집니다.\n",
    "\n",
    "바이너리 시퀀스 형 — bytes, bytearray, memoryview와 바이트 배열 객체 도 보세요.\n",
    "\n",
    "```python\n",
    "# 문자열을 인코딩하여 bytearray로 변환\n",
    "s = \"hello\"\n",
    "b = bytearray(s, 'utf-8')\n",
    "print(b)  \n",
    "# 인덱스를 사용하여 요소에 접근하고 수정\n",
    "b = bytearray(b'hello')\n",
    "b[0] = 72  # 'H'의 ASCII 코드로 변경\n",
    "print(b)  # 출력: bytearray(b'Hello')\n",
    "# bytearray에 새로운 바이트를 추가\n",
    "b = bytearray(b'hello')\n",
    "b.extend(b' world')\n",
    "print(b)  # 출력: bytearray(b'hello world')\n",
    "# 잘라내기\n",
    "b = bytearray(b'hello world')\n",
    "slice_b = b[0:5]  # 'hello' 잘라내기\n",
    "print(slice_b)  # 출력: bytearray(b'hello')\n",
    "```"
   ]
  },
  {
   "cell_type": "markdown",
   "metadata": {},
   "source": [
    "### class bytes(source=b'')  \n",
    "class bytes(source, encoding)  \n",
    "class bytes(source, encoding, errors)  \n",
    "\n",
    "Return a new “bytes” object which is an immutable sequence of integers in the range 0 <= x < 256. bytes is an immutable version of bytearray – it has the same non-mutating methods and the same indexing and slicing behavior.\n",
    "\n",
    "따라서 생성자 인자는 bytearray() 와 같이 해석됩니다.\n",
    "\n",
    "바이트열 객체는 리터럴을 사용하여 만들 수도 있습니다 (문자열과 바이트열 리터럴 를 보세요).\n",
    "\n",
    "바이너리 시퀀스 형 — bytes, bytearray, memoryview, 바이트열 객체 및 바이트열 과 바이트 배열 연산 도 보세요.\n",
    "\n",
    "```python\n",
    "byte_literal = b'my_bytes'\n",
    "print(byte_literal)\n",
    "\n",
    "arr = bytes(5)  # b'\\\\x00\\\\x00\\\\x00\\\\x00\\\\x00'\n",
    "print(arr)\n",
    "\n",
    "string = 'Hello'\n",
    "byte_arr = bytes(string, 'utf-8')\n",
    "print(byte_arr)\n",
    "\n",
    "# 16진수 문자열로부터 바이트 객체를 생성\n",
    "hex_string = '48656c6c6f'\n",
    "byte_arr = bytes.fromhex(hex_string)\n",
    "print(byte_arr)  # b'Hello'\n",
    "\n",
    "my_bytes = b'Hello, World!'\n",
    "slice = my_bytes[0:5]\n",
    "print(slice)  # b'Hello'\n",
    "\n",
    "# 반복\n",
    "repeated = my_bytes * 2\n",
    "print(repeated)  # b'Hello, World!Hello, World!'\n",
    "\n",
    "text = \"café\"\n",
    "byte_text = text.encode('utf-8')\n",
    "print(byte_text)  # b'caf\\xe9'\n",
    "\n",
    "decoded_text = byte_text.decode('utf-8')\n",
    "print(decoded_text)  # café\n",
    "```"
   ]
  },
  {
   "cell_type": "markdown",
   "metadata": {},
   "source": [
    "### callable(object)\n",
    "Return True if the object argument appears callable, False if not. If this returns True, it is still possible that a call fails, but if it is False, calling object will never succeed. Note that classes are callable (calling a class returns a new instance); instances are callable if their class has a __call__() method.\n",
    "\n",
    ">Added in version 3.2: 이 함수는 파이썬 3.0에서 먼저 제거된 다음 파이썬 3.2에서 다시 도입했습니다.\n",
    "\n",
    "```python\n",
    "def example_function():\n",
    "    print('Hello, World!')\n",
    "\n",
    "print(callable(example_function))  # True\n",
    "\n",
    "# 클래스 인스턴스\n",
    "class CallableClass:\n",
    "    def __call__(self):\n",
    "        print('Instance called!')\n",
    "\n",
    "callable_instance = CallableClass()\n",
    "print(callable(callable_instance))  # True\n",
    "callable_instance()  # 'Instance called!'\n",
    "\n",
    "# 람다 함수\n",
    "lambda_function = lambda x: x + 1\n",
    "print(callable(lambda_function))  # True\n",
    "print(lambda_function(5))  # 6\n",
    "\n",
    "# 메서드\n",
    "class MyClass:\n",
    "    def my_method(self):\n",
    "        print('Method called!')\n",
    "\n",
    "my_instance = MyClass()\n",
    "print(callable(my_instance.my_method))  # True\n",
    "my_instance.my_method()  # 'Method called!'\n",
    "\n",
    "# 비공식 객체\n",
    "class Multiplier:\n",
    "    def __init__(self, factor):\n",
    "        self.factor = factor\n",
    "\n",
    "    def __call__(self, value):\n",
    "        return value * self.factor\n",
    "\n",
    "multiply_by_3 = Multiplier(3)\n",
    "result = multiply_by_3(10)\n",
    "print(result)  # 30\n",
    "\n",
    "# 조건부 호출\n",
    "class Stateful:\n",
    "    def __init__(self):\n",
    "        self.state = 0\n",
    "\n",
    "    def __call__(self, increment):\n",
    "        self.state += increment\n",
    "        return self.state\n",
    "\n",
    "stateful_instance = Stateful()\n",
    "print(stateful_instance(5))  # 5\n",
    "print(stateful_instance(3))  # 8\n",
    "```"
   ]
  },
  {
   "cell_type": "code",
   "execution_count": 10,
   "metadata": {},
   "outputs": [
    {
     "name": "stdout",
     "output_type": "stream",
     "text": [
      "True\n"
     ]
    }
   ],
   "source": [
    "def example_function():\n",
    "    print('Hello, World!')\n",
    "\n",
    "print(callable(example_function))  # True"
   ]
  },
  {
   "cell_type": "markdown",
   "metadata": {},
   "source": [
    "### chr(i)\n",
    "유니코드 코드 포인트가 정수 i 인 문자를 나타내는 문자열을 돌려줍니다. 예를 들어, chr(97) 은 문자열 'a' 를 돌려주고, chr(8364) 는 문자열 '€' 를 돌려줍니다. 이 것은 ord() 의 반대입니다.\n",
    "\n",
    "인자의 유효 범위는 0에서 1,114,111(16진수로 0x10FFFF)까지입니다. i 가 이 범위 밖에 있을 때 ValueError 가 발생합니다."
   ]
  },
  {
   "cell_type": "markdown",
   "metadata": {},
   "source": [
    "### compile(source, filename, mode, flags=0, dont_inherit=False, optimize=-1)\n",
    "source 를 코드 또는 AST 객체로 컴파일합니다. 코드 객체는 exec() 또는 eval() 로 실행할 수 있습니다. source 는 일반 문자열, 바이트열 또는 AST 객체 일 수 있습니다. AST 객체로 작업하는 방법에 대한 정보는 ast 모듈 문서를 참조하세요.\n",
    "\n",
    "filename 인자는 코드를 읽은 파일을 제공해야 합니다; 파일에서 읽지 않으면 인식 가능한 값을 전달합니다 ('<string>' 이 일반적으로 사용됩니다).\n",
    "\n",
    "mode 인자는 컴파일해야 하는 코드 종류를 지정합니다; source 가 문장의 시퀀스로 구성되어 있다면 exec, 단일 표현식으로 구성되어 있다면 'eval', 단일 대화형 문장으로 구성되면 'single' 이 될 수 있습니다 (마지막의 경우 None 이외의 값으로 구해지는 표현식 문은 인쇄됩니다).\n",
    "\n",
    "선택적 인자 flags 와 dont_inherit 는 어떤 컴파일러 옵션이 활성화되어야 하고 어떤 퓨처 기능이 허락되어야 하는지 제어합니다. 둘 다 제공되지 않는 경우 (또는 둘 다 0의 경우), 코드는 compile() 을 호출하는 코드에 적용되고 있는 것과 같은 플래그로 컴파일됩니다. flags 인자가 주어지고, dont_inherit 가 없으면 (또는 0) 원래 사용될 것에 더해 flags 인자로 지정된 컴파일러 옵션과 퓨처 문이 사용됩니다. dont_inherit 가 0이 아닌 정수면 flags 인자가 사용됩니다 – 둘러싼 코드의 플래그(퓨처 기능과 컴파일러 옵션)는 무시됩니다.\n",
    "\n",
    "컴파일러 옵션과 퓨처 문은 여러 개의 옵션을 지정하기 위해 비트 OR 될 수 있는 비트에 의해 지정됩니다. 주어진 퓨처 기능을 지정하는 데 필요한 비트 필드는 __future__ 모듈의 _Feature 인스턴스에서 compiler_flag 어트리뷰트로 찾을 수 있습니다. 컴파일러 플래그는 PyCF_ 접두사로 ast 모듈에서 찾을 수 있습니다.\n",
    "\n",
    "인자 optimize 는 컴파일러의 최적화 수준을 지정합니다; 기본값 -1 은 -O 옵션에 의해 주어진 인터프리터의 최적화 수준을 선택합니다. 명시적 수준은 0 (최적화 없음, __debug__ 이 참입니다), 1 (assert가 제거됩니다, __debug__ 이 거짓입니다) 또는 2 다 (독스트링도 제거됩니다).\n",
    "\n",
    "이 함수는 컴파일된 소스가 올바르지 않으면 SyntaxError 를 일으키고, 소스에 널 바이트가 들어있는 경우 ValueError 를 일으킵니다.\n",
    "\n",
    "파이썬 코드를 AST 표현으로 파싱하려면, ast.parse() 를 보세요.\n",
    "\n",
    "source와 filename을 인자로 감사 이벤트(auditing event) compile을 발생시킵니다. 이 이벤트는 묵시적 컴파일로 인해 발생할 수도 있습니다.\n",
    "\n",
    "```\n",
    "참고 'single' 또는 'eval' mode로 여러 줄 코드를 가진 문자열을 컴파일할 때, 적어도 하나의 개행 문자로 입력을 끝내야 합니다. 이것은 code 모듈에서 문장이 불완전한지 완전한지를 쉽게 탐지하게 하기 위함입니다.\n",
    "```\n",
    "```\n",
    "경고 파이썬의 AST 컴파일러에서 스택 깊이 제한으로 인해, AST 객체로 컴파일할 때 충분히 크고 복잡한 문자열로 파이썬 인터프리터가 크래시를 일으키도록 만들 수 있습니다.\n",
    "```\n",
    ">버전 3.2에서 변경: Allowed use of Windows and Mac newlines. Also, input in 'exec' mode does not have to end in a newline anymore. Added the optimize parameter.\n",
    "\n",
    ">버전 3.5에서 변경: 이전에는, source 에서 널 바이트가 발견될 때 TypeError 가 발생했습니다.\n",
    "\n",
    ">Added in version 3.8: 이제 ast.PyCF_ALLOW_TOP_LEVEL_AWAIT를 flags로 전달하여 최상위 수준 await, async for 및 async with를 지원할 수 있습니다."
   ]
  },
  {
   "cell_type": "markdown",
   "metadata": {},
   "source": [
    "### class complex(number=0, /)  \n",
    "class complex(string, /)  \n",
    "class complex(real=0, imag=0)    \n",
    "Convert a single string or number to a complex number, or create a complex number from real and imaginary parts.\n",
    "\n",
    "Examples:\n",
    "```python\n",
    ">>>\n",
    "complex('+1.23')\n",
    "(1.23+0j)\n",
    "complex('-4.5j')\n",
    "-4.5j\n",
    "complex('-1.23+4.5j')\n",
    "(-1.23+4.5j)\n",
    "complex('\\t( -1.23+4.5J )\\n')\n",
    "(-1.23+4.5j)\n",
    "complex('-Infinity+NaNj')\n",
    "(-inf+nanj)\n",
    "complex(1.23)\n",
    "(1.23+0j)\n",
    "complex(imag=-4.5)\n",
    "-4.5j\n",
    "complex(-1.23, 4.5)\n",
    "(-1.23+4.5j)\n",
    "```\n",
    "If the argument is a string, it must contain either a real part (in the same format as for float()) or an imaginary part (in the same format but with a 'j' or 'J' suffix), or both real and imaginary parts (the sign of the imaginary part is mandatory in this case). The string can optionally be surrounded by whitespaces and the round parentheses '(' and ')', which are ignored. The string must not contain whitespace between '+', '-', the 'j' or 'J' suffix, and the decimal number. For example, complex('1+2j') is fine, but complex('1 + 2j') raises ValueError. More precisely, the input must conform to the complexvalue production rule in the following grammar, after parentheses and leading and trailing whitespace characters are removed:\n",
    "\n",
    "```py\n",
    "complexvalue ::= floatvalue |\n",
    "                 floatvalue (\"j\" | \"J\") |\n",
    "                 floatvalue sign absfloatvalue (\"j\" | \"J\")\n",
    "```\n",
    "\n",
    "If the argument is a number, the constructor serves as a numeric conversion like int and float. For a general Python object x, complex(x) delegates to x.__complex__(). If __complex__() is not defined then it falls back to __float__(). If __float__() is not defined then it falls back to __index__().  \n",
    "\n",
    "If two arguments are provided or keyword arguments are used, each argument may be any numeric type (including complex). If both arguments are real numbers, return a complex number with the real component real and the imaginary component imag. If both arguments are complex numbers, return a complex number with the real component real.real-imag.imag and the imaginary component real.imag+imag.real. If one of arguments is a real number, only its real component is used in the above expressions.  \n",
    "\n",
    "If all arguments are omitted, returns 0j.  \n",
    "\n",
    "복소수 형은 숫자 형 — int, float, complex 에서 설명합니다.  \n",
    "\n",
    ">버전 3.6에서 변경: 코드 리터럴 처럼 숫자를 밑줄로 그룹화할 수 있습니다.  \n",
    "\n",
    ">버전 3.8에서 변경: Falls back to __index__() if __complex__() and __float__() are not defined."
   ]
  },
  {
   "cell_type": "markdown",
   "metadata": {},
   "source": [
    "### delattr(object, name)\n",
    "This is a relative of setattr(). The arguments are an object and a string. The string must be the name of one of the object’s attributes. The function deletes the named attribute, provided the object allows it. For example, delattr(x, 'foobar') is equivalent to del x.foobar. name need not be a Python identifier (see setattr())."
   ]
  },
  {
   "cell_type": "markdown",
   "metadata": {},
   "source": [
    "### class dict(**kwarg)  \n",
    "class dict(mapping, **kwarg)  \n",
    "class dict(iterable, **kwarg)  \n",
    "\n",
    "새 딕셔너리를 만듭니다. dict 객체는 딕셔너리 클래스입니다. 이 클래스에 대한 설명서는 dict 및 매핑 형 — dict 을 보세요.\n",
    "\n",
    "다른 컨테이너의 경우 list, set 및 tuple 클래스와 collections 모듈을 보세요.\n",
    "\n",
    "```python\n",
    "# 중괄호를 이용한 생성\n",
    "fruits = {\"apple\": \"green\", \"banana\": \"yellow\", \"grape\": \"purple\"}\n",
    "\n",
    "# dict() 함수를 이용한 생성\n",
    "desserts = dict(cake=\"chocolate\", ice_cream=\"vanilla\", pie=\"apple\")\n",
    "\n",
    "print(fruits[\"apple\"])  # 출력: green\n",
    "print(desserts[\"cake\"])  # 출력: chocolate\n",
    "\n",
    "# 값 수정\n",
    "fruits[\"apple\"] = \"red\"\n",
    "\n",
    "# 새로운 키-값 추가\n",
    "fruits[\"orange\"] = \"orange\"\n",
    "\n",
    "# del로 키-값 삭제하기\n",
    "del fruits[\"banana\"]\n",
    "\n",
    "# pop() 메서드 사용\n",
    "removed_value = desserts.pop(\"pie\")\n",
    "\n",
    "#여러 개의 키와 값을 동시에 추가하기\n",
    "fruits.update({\n",
    "    \"strawberry\": \"red\",\n",
    "    \"blueberry\": \"blue\"\n",
    "})\n",
    "\n",
    "# 키 반복하기\n",
    "for key in fruits:\n",
    "    print(key)\n",
    "\n",
    "# 값 반복하기\n",
    "for value in fruits.values():\n",
    "    print(value)\n",
    "\n",
    "# 키-값 쌍 반복하기\n",
    "for key, value in fruits.items():\n",
    "    print(f\"{key}: {value}\")\n",
    "\n",
    "# 키 존재 여부 확인하기\n",
    "if \"apple\" in fruits:\n",
    "    print(\"Apple exists in the dictionary.\")\n",
    "else:\n",
    "    print(\"Apple does not exist.\")\n",
    "\n",
    "# 메서드 사용 예\n",
    "print(fruits.keys())      # 출력: dict_keys(['apple', 'banana', 'grape'])\n",
    "print(fruits.values())    # 출력: dict_values(['red', 'yellow', 'purple'])\n",
    "print(fruits.items())     # 출력: dict_items([('apple', 'red'), ('banana', 'yellow'), ('grape', 'purple')])        \n",
    "```"
   ]
  },
  {
   "cell_type": "markdown",
   "metadata": {},
   "source": [
    "### dir()  \n",
    "dir(object)  \n",
    "인자가 없으면, 현재 지역 스코프에 있는 이름들의 리스트를 돌려줍니다. 인자가 있으면, 해당 객체에 유효한 어트리뷰트들의 리스트를 돌려주려고 시도합니다.\n",
    "\n",
    "If the object has a method named __dir__(), this method will be called and must return the list of attributes. This allows objects that implement a custom __getattr__() or __getattribute__() function to customize the way dir() reports their attributes.\n",
    "\n",
    "If the object does not provide __dir__(), the function tries its best to gather information from the object’s __dict__ attribute, if defined, and from its type object. The resulting list is not necessarily complete and may be inaccurate when the object has a custom __getattr__().\n",
    "\n",
    "기본 dir() 메커니즘은 다른 형의 객체에 대해서 다르게 동작하는데, 완전한 정보보다는 가장 적절한 정보를 만들려고 시도하기 때문입니다:\n",
    "\n",
    "객체가 모듈 객체면, 리스트에는 모듈 어트리뷰트의 이름이 포함됩니다.\n",
    "\n",
    "객체가 형 또는 클래스 객체면, 리스트에는 그것의 어트리뷰트 이름과 베이스의 어트리뷰트 이름들이 재귀적으로 포함됩니다.\n",
    "\n",
    "그 밖의 경우, 리스트에는 객체의 어트리뷰트 이름, 해당 클래스의 어트리뷰트 이름 및 해당 클래스의 베이스 클래스들의 어트리뷰트 이름을 재귀적으로 포함합니다.\n",
    "\n",
    "\n",
    ">참고 dir() 은 주로 대화형 프롬프트에서의 사용 편의를 위해 제공되기 때문에, 엄격하거나 일관되게 정의된 이름 집합을 제공하기보다 흥미로운 이름 집합을 제공하려고 시도하며, 상세한 동작은 배포마다 변경될 수 있습니다. 예를 들어, 인자가 클래스면 메타 클래스 어트리뷰트는 결과 리스트에 없습니다.\n"
   ]
  },
  {
   "cell_type": "markdown",
   "metadata": {},
   "source": [
    "### divmod(a, b)\n",
    "Take two (non-complex) numbers as arguments and return a pair of numbers consisting of their quotient and remainder when using integer division. With mixed operand types, the rules for binary arithmetic operators apply. For integers, the result is the same as (a // b, a % b). For floating-point numbers the result is (q, a % b), where q is usually math.floor(a / b) but may be 1 less than that. In any case q * b + a % b is very close to a, if a % b is non-zero it has the same sign as b, and 0 <= abs(a % b) < abs(b).\n",
    "\n",
    "```python\n",
    "result = divmod(8, 3)\n",
    "print(result)  # 출력: (2, 2)\n",
    "```"
   ]
  },
  {
   "cell_type": "markdown",
   "metadata": {},
   "source": [
    "### enumerate(iterable, start=0)\n",
    "열거 객체를 돌려줍니다. iterable 은 시퀀스, 이터레이터 또는 이터레이션을 지원하는 다른 객체여야 합니다. enumerate() 에 의해 반환된 이터레이터의 __next__() 메서드는 카운트 (기본값 0을 갖는 start 부터)와 iterable 을 이터레이션 해서 얻어지는 값을 포함하는 튜플을 돌려줍니다."
   ]
  },
  {
   "cell_type": "code",
   "execution_count": 10,
   "metadata": {},
   "outputs": [
    {
     "data": {
      "text/plain": [
       "[(0, 'Spring'), (1, 'Summer'), (2, 'Fall'), (3, 'Winter')]"
      ]
     },
     "execution_count": 10,
     "metadata": {},
     "output_type": "execute_result"
    }
   ],
   "source": [
    "seasons = ['Spring', 'Summer', 'Fall', 'Winter']\n",
    "list(enumerate(seasons))"
   ]
  },
  {
   "cell_type": "markdown",
   "metadata": {},
   "source": [
    "### eval(source, /, globals=None, locals=None)\n",
    "매개변수:\n",
    "source (str | code object) – A Python expression.\n",
    "\n",
    "globals (dict | None) – The global namespace (default: None).\n",
    "\n",
    "locals (mapping | None) – The local namespace (default: None).\n",
    "\n",
    "반환:\n",
    "The result of the evaluated expression.\n",
    "\n",
    "Raises:\n",
    "Syntax errors are reported as exceptions.\n",
    "\n",
    "\n",
    "><strong>경고:</strong> This function executes arbitrary code. Calling it with user-supplied input may lead to security vulnerabilities.\n",
    "\n",
    "\n",
    "The expression argument is parsed and evaluated as a Python expression (technically speaking, a condition list) using the globals and locals mappings as global and local namespace. If the globals dictionary is present and does not contain a value for the key __builtins__, a reference to the dictionary of the built-in module builtins is inserted under that key before expression is parsed. That way you can control what builtins are available to the executed code by inserting your own __builtins__ dictionary into globals before passing it to eval(). If the locals mapping is omitted it defaults to the globals dictionary. If both mappings are omitted, the expression is executed with the globals and locals in the environment where eval() is called. Note, eval() will only have access to the nested scopes (non-locals) in the enclosing environment if they are already referenced in the scope that is calling eval() (e.g. via a nonlocal statement).\n",
    "\n",
    "```python\n",
    "x = 1\n",
    "eval('x+1')\n",
    "```\n",
    "This function can also be used to execute arbitrary code objects (such as those created by compile()). In this case, pass a code object instead of a string. If the code object has been compiled with 'exec' as the mode argument, eval()'s return value will be None.\n",
    "\n",
    "Hints: dynamic execution of statements is supported by the exec() function. The globals() and locals() functions return the current global and local dictionary, respectively, which may be useful to pass around for use by eval() or exec().\n",
    "\n",
    "If the given source is a string, then leading and trailing spaces and tabs are stripped.\n",
    "\n",
    "리터럴 만 포함 된 표현식의 값을 안전하게 구할 수 있는 함수 ast.literal_eval() 를 보세요.\n",
    "\n",
    "코드 객체를 인자로 감사 이벤트(auditing event) exec를 발생시킵니다. 코드 컴파일 이벤트도 발생할 수 있습니다.\n",
    "\n",
    ">버전 3.13에서 변경: The globals and locals arguments can now be passed as keywords.\n",
    "\n",
    ">버전 3.13에서 변경: The semantics of the default locals namespace have been adjusted as described for the locals() builtin."
   ]
  },
  {
   "cell_type": "markdown",
   "metadata": {},
   "source": [
    "### exec(source, /, globals=None, locals=None, *, closure=None)\n",
    ">경고 This function executes arbitrary code. Calling it with user-supplied input may lead to security vulnerabilities.  \n",
    "\n",
    "This function supports dynamic execution of Python code. source must be either a string or a code object. If it is a string, the string is parsed as a suite of Python statements which is then executed (unless a syntax error occurs). [1] If it is a code object, it is simply executed. In all cases, the code that’s executed is expected to be valid as file input (see the section 파일 입력 in the Reference Manual). Be aware that the nonlocal, yield, and return statements may not be used outside of function definitions even within the context of code passed to the exec() function. The return value is None.\n",
    "\n",
    "In all cases, if the optional parts are omitted, the code is executed in the current scope. If only globals is provided, it must be a dictionary (and not a subclass of dictionary), which will be used for both the global and the local variables. If globals and locals are given, they are used for the global and local variables, respectively. If provided, locals can be any mapping object. Remember that at the module level, globals and locals are the same dictionary.\n",
    "\n",
    ">참고 When exec gets two separate objects as globals and locals, the code will be executed as if it were embedded in a class definition. This means functions and classes defined in the executed code will not be able to access variables assigned at the top level (as the “top level” variables are treated as class variables in a class definition).\n",
    "\n",
    "globals 딕셔너리가 __builtins__ 를 키로 하는 값을 갖고 있지 않으면, 그 키로 내장 모듈 builtins 에 대한 참조가 삽입됩니다. 이런 식으로 exec() 에 전달하기 전에 globals 에 여러분 자신의 __builtins__ 딕셔너리를 삽입함으로써, 실행되는 코드에 어떤 내장 객체들이 제공될지를 제어할 수 있습니다.\n",
    "\n",
    "The closure argument specifies a closure–a tuple of cellvars. It’s only valid when the object is a code object containing free (closure) variables. The length of the tuple must exactly match the length of the code object’s co_freevars attribute.\n",
    "\n",
    "코드 객체를 인자로 감사 이벤트(auditing event) exec를 발생시킵니다. 코드 컴파일 이벤트도 발생할 수 있습니다.\n",
    "\n",
    "참고 The built-in functions globals() and locals() return the current global and local namespace, respectively, which may be useful to pass around for use as the second and third argument to exec().\n",
    "참고 The default locals act as described for function locals() below. Pass an explicit locals dictionary if you need to see effects of the code on locals after function exec() returns.\n",
    ">버전 3.11에서 변경: Added the closure parameter.\n",
    "\n",
    ">버전 3.13에서 변경: The globals and locals arguments can now be passed as keywords.\n",
    "\n",
    ">버전 3.13에서 변경: The semantics of the default locals namespace have been adjusted as described for the locals() builtin.\n",
    "```python\n",
    "code = 'a = 5\\nb = 10\\nprint(\"Sum =\", a + b)'\n",
    "exec(code)\n",
    "\n",
    "code = '''\n",
    "for i in range(3):\n",
    "    print(i)\n",
    "'''\n",
    "exec(code)\n",
    "\n",
    "user_code = input('Enter a line of code: ')\n",
    "exec(user_code)\n",
    "\n",
    "code = 'x = 5\\nprint(x)'\n",
    "exec(code, {'x': 10})\n",
    "```"
   ]
  },
  {
   "cell_type": "markdown",
   "metadata": {},
   "source": [
    "### filter(function, iterable)\n",
    "Construct an iterator from those elements of iterable for which function is true. iterable may be either a sequence, a container which supports iteration, or an iterator. If function is None, the identity function is assumed, that is, all elements of iterable that are false are removed.\n",
    "\n",
    "filter(function, iterable) 는 function이 None 이 아닐 때 제너레이터 표현식 (item for item in iterable if function(item)) 과, None 일 때 (item for item in iterable if item) 와 동등함에 유의하세요.\n",
    "\n",
    "See itertools.filterfalse() for the complementary function that returns elements of iterable for which function is false."
   ]
  }
 ],
 "metadata": {
  "kernelspec": {
   "display_name": "base",
   "language": "python",
   "name": "python3"
  },
  "language_info": {
   "codemirror_mode": {
    "name": "ipython",
    "version": 3
   },
   "file_extension": ".py",
   "mimetype": "text/x-python",
   "name": "python",
   "nbconvert_exporter": "python",
   "pygments_lexer": "ipython3",
   "version": "3.12.7"
  }
 },
 "nbformat": 4,
 "nbformat_minor": 2
}
