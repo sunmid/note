{
 "cells": [
  {
   "cell_type": "markdown",
   "metadata": {},
   "source": [
    "# Python3"
   ]
  },
  {
   "cell_type": "markdown",
   "metadata": {},
   "source": [
    "## functions\n",
    "- Reference [python funcions](https://docs.python.org/ko/3.13/library/functions.html)\n",
    "- with [colab](https://colab.research.google.com/github/sunmid/note/blob/main/python3.ipynb)"
   ]
  },
  {
   "cell_type": "markdown",
   "metadata": {},
   "source": [
    "### abs(x)\n",
    "Return the absolute value of a number. The argument may be an integer, a floating-point number, or an object implementing __abs__(). If the argument is a complex number, its magnitude is returned."
   ]
  },
  {
   "cell_type": "code",
   "execution_count": 6,
   "metadata": {},
   "outputs": [
    {
     "data": {
      "text/plain": [
       "4.5"
      ]
     },
     "execution_count": 6,
     "metadata": {},
     "output_type": "execute_result"
    }
   ],
   "source": [
    "abs(-4.5)"
   ]
  },
  {
   "cell_type": "markdown",
   "metadata": {},
   "source": [
    "### aiter(async_iterable)\n",
    "Return an asynchronous iterator for an asynchronous iterable. Equivalent to calling x.__aiter__().\n",
    "\n",
    "Note: Unlike iter(), aiter() has no 2-argument variant.\n",
    "\n",
    ">Added in version 3.10."
   ]
  },
  {
   "cell_type": "code",
   "execution_count": null,
   "metadata": {},
   "outputs": [
    {
     "name": "stdout",
     "output_type": "stream",
     "text": [
      "0\n",
      "1\n",
      "2\n",
      "3\n"
     ]
    }
   ],
   "source": [
    "async def async_generator():\n",
    "    for num in range(4):\n",
    "        await asyncio.sleep(1)  # Simulate async operation\n",
    "        yield num\n",
    "\n",
    "async for num in aiter(async_generator()):  # Use aiter() explicitly\n",
    "    print(num)"
   ]
  },
  {
   "cell_type": "markdown",
   "metadata": {},
   "source": [
    "### all(iterable)\n",
    "iterable 의 모든 요소가 참이면 (또는 iterable 이 비어있으면) True "
   ]
  },
  {
   "cell_type": "code",
   "execution_count": null,
   "metadata": {},
   "outputs": [],
   "source": [
    "my_list = [False, True, True]\n",
    "result = all(my_list)\n",
    "print(result)  "
   ]
  },
  {
   "cell_type": "markdown",
   "metadata": {},
   "source": [
    "### awaitable anext(async_iterator)\n",
    "awaitable anext(async_iterator, default)\n",
    "When awaited, return the next item from the given asynchronous iterator, or default if given and the iterator is exhausted.\n",
    "\n",
    "This is the async variant of the next() builtin, and behaves similarly.\n",
    "\n",
    "This calls the __anext__() method of async_iterator, returning an awaitable. Awaiting this returns the next value of the iterator. If default is given, it is returned if the iterator is exhausted, otherwise StopAsyncIteration is raised.\n",
    "\n",
    ">Added in version 3.10."
   ]
  },
  {
   "cell_type": "code",
   "execution_count": 1,
   "metadata": {},
   "outputs": [
    {
     "name": "stdout",
     "output_type": "stream",
     "text": [
      "0\n",
      "1\n",
      "2\n",
      "3\n"
     ]
    }
   ],
   "source": [
    "async def async_generator():\n",
    "    for num in range(4):\n",
    "        yield num\n",
    "\n",
    "async_generator = aiter(async_generator())\n",
    "\n",
    "while True:\n",
    "    try:\n",
    "        value = await anext(async_generator)\n",
    "        print(value)\n",
    "    except StopAsyncIteration:\n",
    "        break"
   ]
  },
  {
   "cell_type": "markdown",
   "metadata": {},
   "source": [
    "### any(iterable)\n",
    "iterable 의 요소 중 어느 하나라도 참이면 True 를 돌려줍니다. iterable이 비어 있으면 False 를 돌려줍니다. 다음과 동등합니다:"
   ]
  },
  {
   "cell_type": "code",
   "execution_count": 3,
   "metadata": {},
   "outputs": [
    {
     "name": "stdout",
     "output_type": "stream",
     "text": [
      "False\n"
     ]
    }
   ],
   "source": [
    "my_list = [False, False, False]\n",
    "result = all(my_list)\n",
    "print(result)  "
   ]
  },
  {
   "cell_type": "markdown",
   "metadata": {},
   "source": [
    "### ascii(object)\n",
    "As repr(), return a string containing a printable representation of an object, but escape the non-ASCII characters in the string returned by repr() using \\x, \\u, or \\U escapes. This generates a string similar to that returned by repr() in Python 2."
   ]
  },
  {
   "cell_type": "code",
   "execution_count": 8,
   "metadata": {},
   "outputs": [
    {
     "name": "stdout",
     "output_type": "stream",
     "text": [
      "{'fruit': 'Pyth\\xf6n', 'number': 10}\n"
     ]
    }
   ],
   "source": [
    "sample_dict = {'fruit': 'Pythön', 'number': 10}\n",
    "result_dict = ascii(sample_dict)\n",
    "print(result_dict)"
   ]
  },
  {
   "cell_type": "markdown",
   "metadata": {},
   "source": [
    "### bin(x)\n",
    "Convert an integer number to a binary string prefixed with “0b”. The result is a valid Python expression. If x is not a Python int object, it has to define an \\__index__() method that returns an integer. Some examples:"
   ]
  },
  {
   "cell_type": "code",
   "execution_count": 1,
   "metadata": {},
   "outputs": [
    {
     "data": {
      "text/plain": [
       "'0b1010'"
      ]
     },
     "execution_count": 1,
     "metadata": {},
     "output_type": "execute_result"
    }
   ],
   "source": [
    "bin(10)"
   ]
  },
  {
   "cell_type": "markdown",
   "metadata": {},
   "source": [
    "### class bool(object=False, /)\n",
    "Return a Boolean value, i.e. one of True or False. The argument is converted using the standard truth testing procedure. If the argument is false or omitted, this returns False; otherwise, it returns True. The bool class is a subclass of int (see 숫자 형 — int, float, complex). It cannot be subclassed further. Its only instances are False and True (see Boolean Type - bool).\n",
    ">버전 3.7에서 변경: The parameter is now positional-only.\n",
    "\n",
    "```python\n",
    "print(bool([1, 2, 3])) # True\n",
    "print(bool([]))        # False\n",
    "print(bool({'key': 'value'}))  # True\n",
    "print(bool({}))       # False\n",
    "print(not True)  # False\n",
    "print(not False) # True\n",
    "x = 10\n",
    "y = 5\n",
    "print(x > 5 and y < 10)  # True\n",
    "print(x < 5 or y < 10)   # True\n",
    "```"
   ]
  },
  {
   "cell_type": "markdown",
   "metadata": {},
   "source": [
    "### breakpoint(*args, **kws)\n",
    "This function drops you into the debugger at the call site. Specifically, it calls sys.breakpointhook(), passing args and kws straight through. By default, sys.breakpointhook() calls pdb.set_trace() expecting no arguments. In this case, it is purely a convenience function so you don’t have to explicitly import pdb or type as much code to enter the debugger. However, sys.breakpointhook() can be set to some other function and breakpoint() will automatically call that, allowing you to drop into the debugger of choice. If sys.breakpointhook() is not accessible, this function will raise RuntimeError.\n",
    "\n",
    "By default, the behavior of breakpoint() can be changed with the PYTHONBREAKPOINT environment variable. See sys.breakpointhook() for usage details.\n",
    "\n",
    "Note that this is not guaranteed if sys.breakpointhook() has been replaced.\n",
    "\n",
    "breakpointhook을 인자로 감사 이벤트(auditing event) builtins.breakpoint를 발생시킵니다.\n",
    "\n",
    ">Added in version 3.7.\n",
    "\n",
    "```python\n",
    "def multiple_breakpoints(x):\n",
    "    result1 = x + 1\n",
    "    breakpoint()  # 첫 번째 중단점\n",
    "    result2 = result1 * 2\n",
    "    breakpoint()  # 두 번째 중단점\n",
    "    return result2\n",
    "\n",
    "print(multiple_breakpoints(5))\n",
    "\n",
    "```\n",
    "\n",
    "```python\n",
    "import pdb\n",
    "\n",
    "def debug_sample(x):\n",
    "    result = x + 10\n",
    "    pdb.set_trace()  # 직접 설정한 중단점\n",
    "    return result\n",
    "\n",
    "print(debug_sample(5))\n",
    "```"
   ]
  }
 ],
 "metadata": {
  "kernelspec": {
   "display_name": "base",
   "language": "python",
   "name": "python3"
  },
  "language_info": {
   "codemirror_mode": {
    "name": "ipython",
    "version": 3
   },
   "file_extension": ".py",
   "mimetype": "text/x-python",
   "name": "python",
   "nbconvert_exporter": "python",
   "pygments_lexer": "ipython3",
   "version": "3.12.7"
  }
 },
 "nbformat": 4,
 "nbformat_minor": 2
}
