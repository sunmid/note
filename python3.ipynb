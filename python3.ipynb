{
 "cells": [
  {
   "cell_type": "markdown",
   "metadata": {},
   "source": [
    "# Python3"
   ]
  },
  {
   "cell_type": "markdown",
   "metadata": {},
   "source": [
    "## functions\n",
    "- Reference [python funcions](https://docs.python.org/ko/3.13/library/functions.html)\n",
    "- with [colab](https://colab.research.google.com/github/sunmid/note/blob/main/python3.ipynb)"
   ]
  },
  {
   "cell_type": "markdown",
   "metadata": {},
   "source": [
    "### abs(x)\n",
    "Return the absolute value of a number. The argument may be an integer, a floating-point number, or an object implementing __abs__(). If the argument is a complex number, its magnitude is returned."
   ]
  },
  {
   "cell_type": "code",
   "execution_count": 6,
   "metadata": {},
   "outputs": [
    {
     "data": {
      "text/plain": [
       "4.5"
      ]
     },
     "execution_count": 6,
     "metadata": {},
     "output_type": "execute_result"
    }
   ],
   "source": [
    "abs(-4.5)"
   ]
  },
  {
   "cell_type": "markdown",
   "metadata": {},
   "source": [
    "### aiter(async_iterable)\n",
    "Return an asynchronous iterator for an asynchronous iterable. Equivalent to calling x.__aiter__().\n",
    "\n",
    "Note: Unlike iter(), aiter() has no 2-argument variant.\n",
    "\n",
    ">Added in version 3.10."
   ]
  },
  {
   "cell_type": "code",
   "execution_count": null,
   "metadata": {},
   "outputs": [
    {
     "name": "stdout",
     "output_type": "stream",
     "text": [
      "0\n",
      "1\n",
      "2\n",
      "3\n"
     ]
    }
   ],
   "source": [
    "async def async_generator():\n",
    "    for num in range(4):\n",
    "        await asyncio.sleep(1)  # Simulate async operation\n",
    "        yield num\n",
    "\n",
    "async for num in aiter(async_generator()):  # Use aiter() explicitly\n",
    "    print(num)"
   ]
  },
  {
   "cell_type": "markdown",
   "metadata": {},
   "source": [
    "### all(iterable)\n",
    "iterable 의 모든 요소가 참이면 (또는 iterable 이 비어있으면) True "
   ]
  },
  {
   "cell_type": "code",
   "execution_count": null,
   "metadata": {},
   "outputs": [],
   "source": [
    "my_list = [False, True, True]\n",
    "result = all(my_list)\n",
    "print(result)  "
   ]
  },
  {
   "cell_type": "markdown",
   "metadata": {},
   "source": [
    "### awaitable anext(async_iterator)\n",
    "awaitable anext(async_iterator, default)\n",
    "When awaited, return the next item from the given asynchronous iterator, or default if given and the iterator is exhausted.\n",
    "\n",
    "This is the async variant of the next() builtin, and behaves similarly.\n",
    "\n",
    "This calls the __anext__() method of async_iterator, returning an awaitable. Awaiting this returns the next value of the iterator. If default is given, it is returned if the iterator is exhausted, otherwise StopAsyncIteration is raised.\n",
    "\n",
    ">Added in version 3.10."
   ]
  },
  {
   "cell_type": "code",
   "execution_count": 1,
   "metadata": {},
   "outputs": [
    {
     "name": "stdout",
     "output_type": "stream",
     "text": [
      "0\n",
      "1\n",
      "2\n",
      "3\n"
     ]
    }
   ],
   "source": [
    "async def async_generator():\n",
    "    for num in range(4):\n",
    "        yield num\n",
    "\n",
    "async_generator = aiter(async_generator())\n",
    "\n",
    "while True:\n",
    "    try:\n",
    "        value = await anext(async_generator)\n",
    "        print(value)\n",
    "    except StopAsyncIteration:\n",
    "        break"
   ]
  },
  {
   "cell_type": "markdown",
   "metadata": {},
   "source": [
    "### any(iterable)\n",
    "iterable 의 요소 중 어느 하나라도 참이면 True 를 돌려줍니다. iterable이 비어 있으면 False 를 돌려줍니다. 다음과 동등합니다:"
   ]
  },
  {
   "cell_type": "code",
   "execution_count": 3,
   "metadata": {},
   "outputs": [
    {
     "name": "stdout",
     "output_type": "stream",
     "text": [
      "False\n"
     ]
    }
   ],
   "source": [
    "my_list = [False, False, False]\n",
    "result = all(my_list)\n",
    "print(result)  "
   ]
  },
  {
   "cell_type": "markdown",
   "metadata": {},
   "source": [
    "### ascii(object)\n",
    "As repr(), return a string containing a printable representation of an object, but escape the non-ASCII characters in the string returned by repr() using \\x, \\u, or \\U escapes. This generates a string similar to that returned by repr() in Python 2."
   ]
  },
  {
   "cell_type": "code",
   "execution_count": 8,
   "metadata": {},
   "outputs": [
    {
     "name": "stdout",
     "output_type": "stream",
     "text": [
      "{'fruit': 'Pyth\\xf6n', 'number': 10}\n"
     ]
    }
   ],
   "source": [
    "sample_dict = {'fruit': 'Pythön', 'number': 10}\n",
    "result_dict = ascii(sample_dict)\n",
    "print(result_dict)"
   ]
  },
  {
   "cell_type": "markdown",
   "metadata": {},
   "source": [
    "### bin(x)\n",
    "Convert an integer number to a binary string prefixed with “0b”. The result is a valid Python expression. If x is not a Python int object, it has to define an \\__index__() method that returns an integer. Some examples:"
   ]
  },
  {
   "cell_type": "code",
   "execution_count": 1,
   "metadata": {},
   "outputs": [
    {
     "data": {
      "text/plain": [
       "'0b1010'"
      ]
     },
     "execution_count": 1,
     "metadata": {},
     "output_type": "execute_result"
    }
   ],
   "source": [
    "bin(10)"
   ]
  },
  {
   "cell_type": "markdown",
   "metadata": {},
   "source": [
    "### class bool(object=False, /)\n",
    "Return a Boolean value, i.e. one of True or False. The argument is converted using the standard truth testing procedure. If the argument is false or omitted, this returns False; otherwise, it returns True. The bool class is a subclass of int (see 숫자 형 — int, float, complex). It cannot be subclassed further. Its only instances are False and True (see Boolean Type - bool).\n",
    ">버전 3.7에서 변경: The parameter is now positional-only.\n",
    "\n",
    "```python\n",
    "print(bool([1, 2, 3])) # True\n",
    "print(bool([]))        # False\n",
    "print(bool({'key': 'value'}))  # True\n",
    "print(bool({}))       # False\n",
    "print(not True)  # False\n",
    "print(not False) # True\n",
    "x = 10\n",
    "y = 5\n",
    "print(x > 5 and y < 10)  # True\n",
    "print(x < 5 or y < 10)   # True\n",
    "```"
   ]
  },
  {
   "cell_type": "markdown",
   "metadata": {},
   "source": [
    "### breakpoint(*args, **kws)\n",
    "This function drops you into the debugger at the call site. Specifically, it calls sys.breakpointhook(), passing args and kws straight through. By default, sys.breakpointhook() calls pdb.set_trace() expecting no arguments. In this case, it is purely a convenience function so you don’t have to explicitly import pdb or type as much code to enter the debugger. However, sys.breakpointhook() can be set to some other function and breakpoint() will automatically call that, allowing you to drop into the debugger of choice. If sys.breakpointhook() is not accessible, this function will raise RuntimeError.\n",
    "\n",
    "By default, the behavior of breakpoint() can be changed with the PYTHONBREAKPOINT environment variable. See sys.breakpointhook() for usage details.\n",
    "\n",
    "Note that this is not guaranteed if sys.breakpointhook() has been replaced.\n",
    "\n",
    "breakpointhook을 인자로 감사 이벤트(auditing event) builtins.breakpoint를 발생시킵니다.\n",
    "\n",
    ">Added in version 3.7.\n",
    "\n",
    "```python\n",
    "def multiple_breakpoints(x):\n",
    "    result1 = x + 1\n",
    "    breakpoint()  # 첫 번째 중단점\n",
    "    result2 = result1 * 2\n",
    "    breakpoint()  # 두 번째 중단점\n",
    "    return result2\n",
    "\n",
    "print(multiple_breakpoints(5))\n",
    "\n",
    "```\n",
    "```python\n",
    "import pdb\n",
    "def debug_sample(x):\n",
    "    result = x + 10\n",
    "    pdb.set_trace()  # 직접 설정한 중단점\n",
    "    return result\n",
    "\n",
    "print(debug_sample(5))\n",
    "```"
   ]
  },
  {
   "cell_type": "markdown",
   "metadata": {},
   "source": [
    "### class bytearray(source, encoding, errors)\n",
    "새로운 바이트 배열을 돌려줍니다. bytearray 클래스는 0 <= x < 256 범위에 있는 정수의 가변 시퀀스입니다. bytes 형이 가진 대부분의 메서드뿐만 아니라 (바이트열 과 바이트 배열 연산 를 보세요), 가변 시퀀스 형 에 기술된 가변 시퀀스의 일반적인 메서드 대부분을 갖고 있습니다.\n",
    "\n",
    "선택적 source 매개변수는 몇 가지 다른 방법으로 배열을 초기화하는 데 사용할 수 있습니다:\n",
    "\n",
    "문자열 이면, 반드시 encoding 매개변수도 제공해야 합니다 (그리고 선택적으로 errors 도); 그러면 bytearray() 는 str.encode() 를 사용하여 문자열을 바이트로 변환합니다.\n",
    "\n",
    "정수 면, 배열은 그 크기를 갖고, 널 바이트로 초기화됩니다.\n",
    "\n",
    "버퍼 인터페이스를 제공하는 객체면, 객체의 읽기 전용 버퍼가 바이트 배열을 초기화하는 데 사용됩니다.\n",
    "\n",
    "이터러블 이면, 범위 0 <= x < 256 의 정수를 제공하는 이터러블이어야 하고, 그 값들이 배열의 초기 내용물로 사용됩니다.\n",
    "\n",
    "인자가 없으면 크기 0의 배열이 만들어집니다.\n",
    "\n",
    "바이너리 시퀀스 형 — bytes, bytearray, memoryview와 바이트 배열 객체 도 보세요.\n",
    "\n",
    "```python\n",
    "# 문자열을 인코딩하여 bytearray로 변환\n",
    "s = \"hello\"\n",
    "b = bytearray(s, 'utf-8')\n",
    "print(b)  \n",
    "# 인덱스를 사용하여 요소에 접근하고 수정\n",
    "b = bytearray(b'hello')\n",
    "b[0] = 72  # 'H'의 ASCII 코드로 변경\n",
    "print(b)  # 출력: bytearray(b'Hello')\n",
    "# bytearray에 새로운 바이트를 추가\n",
    "b = bytearray(b'hello')\n",
    "b.extend(b' world')\n",
    "print(b)  # 출력: bytearray(b'hello world')\n",
    "# 잘라내기\n",
    "b = bytearray(b'hello world')\n",
    "slice_b = b[0:5]  # 'hello' 잘라내기\n",
    "print(slice_b)  # 출력: bytearray(b'hello')\n",
    "```"
   ]
  },
  {
   "cell_type": "markdown",
   "metadata": {},
   "source": [
    "### class bytes(source=b'')  class bytes(source, encoding)  class bytes(source, encoding, errors)\n",
    "Return a new “bytes” object which is an immutable sequence of integers in the range 0 <= x < 256. bytes is an immutable version of bytearray – it has the same non-mutating methods and the same indexing and slicing behavior.\n",
    "\n",
    "따라서 생성자 인자는 bytearray() 와 같이 해석됩니다.\n",
    "\n",
    "바이트열 객체는 리터럴을 사용하여 만들 수도 있습니다 (문자열과 바이트열 리터럴 를 보세요).\n",
    "\n",
    "바이너리 시퀀스 형 — bytes, bytearray, memoryview, 바이트열 객체 및 바이트열 과 바이트 배열 연산 도 보세요.\n",
    "\n",
    "```python\n",
    "byte_literal = b'my_bytes'\n",
    "print(byte_literal)\n",
    "\n",
    "arr = bytes(5)  # b'\\\\x00\\\\x00\\\\x00\\\\x00\\\\x00'\n",
    "print(arr)\n",
    "\n",
    "string = 'Hello'\n",
    "byte_arr = bytes(string, 'utf-8')\n",
    "print(byte_arr)\n",
    "\n",
    "# 16진수 문자열로부터 바이트 객체를 생성\n",
    "hex_string = '48656c6c6f'\n",
    "byte_arr = bytes.fromhex(hex_string)\n",
    "print(byte_arr)  # b'Hello'\n",
    "\n",
    "my_bytes = b'Hello, World!'\n",
    "slice = my_bytes[0:5]\n",
    "print(slice)  # b'Hello'\n",
    "\n",
    "# 반복\n",
    "repeated = my_bytes * 2\n",
    "print(repeated)  # b'Hello, World!Hello, World!'\n",
    "\n",
    "text = \"café\"\n",
    "byte_text = text.encode('utf-8')\n",
    "print(byte_text)  # b'caf\\xe9'\n",
    "\n",
    "decoded_text = byte_text.decode('utf-8')\n",
    "print(decoded_text)  # café\n",
    "```"
   ]
  }
 ],
 "metadata": {
  "kernelspec": {
   "display_name": "base",
   "language": "python",
   "name": "python3"
  },
  "language_info": {
   "codemirror_mode": {
    "name": "ipython",
    "version": 3
   },
   "file_extension": ".py",
   "mimetype": "text/x-python",
   "name": "python",
   "nbconvert_exporter": "python",
   "pygments_lexer": "ipython3",
   "version": "3.12.7"
  }
 },
 "nbformat": 4,
 "nbformat_minor": 2
}
