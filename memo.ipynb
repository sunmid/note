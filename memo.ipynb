{
 "cells": [
  {
   "cell_type": "markdown",
   "metadata": {},
   "source": [
    "### code runner python 실행시 결과창 콘솔에서 한글 깨질경우\n",
    "```json\n",
    "\"code-runner.executorMap\": {\n",
    "    \"python\": \"set PYTHONIOENCODING=utf8 && python -u\",\n",
    "}\n",
    "```"
   ]
  },
  {
   "cell_type": "markdown",
   "metadata": {},
   "source": [
    "### pypy에서 pip 설치\n",
    "\n",
    "https://bootstrap.pypa.io/get-pip.py\n",
    "\n",
    "pypy get-pip.py"
   ]
  },
  {
   "cell_type": "markdown",
   "metadata": {},
   "source": [
    "### beautiful soup\n",
    "pip install beautifulsoup4"
   ]
  },
  {
   "cell_type": "markdown",
   "metadata": {},
   "source": [
    "### git\n",
    "git config --global user.name \"mooyl\"\n",
    "git config --global user.email \"mooyl@gmail.com\""
   ]
  }
 ],
 "metadata": {
  "language_info": {
   "name": "python"
  }
 },
 "nbformat": 4,
 "nbformat_minor": 2
}
