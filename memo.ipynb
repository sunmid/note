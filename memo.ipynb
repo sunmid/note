{
 "cells": [
  {
   "cell_type": "markdown",
   "metadata": {},
   "source": [
    "### code runner python 실행시 한글 깨질경우\n",
    "```json\n",
    "\"code-runner.executorMap\": {\n",
    "    \"python\": \"set PYTHONIOENCODING=utf8 && python -u\",\n",
    "}\n",
    "```"
   ]
  },
  {
   "cell_type": "markdown",
   "metadata": {},
   "source": []
  }
 ],
 "metadata": {
  "language_info": {
   "name": "python"
  }
 },
 "nbformat": 4,
 "nbformat_minor": 2
}
