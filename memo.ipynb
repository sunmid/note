{
 "cells": [
  {
   "cell_type": "markdown",
   "metadata": {},
   "source": [
    "### code runner 콘솔 한글\n",
    "```json\n",
    "\"code-runner.executorMap\": {\n",
    "    \"python\": \"set PYTHONIOENCODING=utf8 && python -u\",\n",
    "}\n",
    "```"
   ]
  },
  {
   "cell_type": "markdown",
   "metadata": {},
   "source": [
    "### pypy에서 pip 설치\n",
    "```sh\n",
    "get https://bootstrap.pypa.io/get-pip.py\n",
    "pypy get-pip.py\n",
    "```"
   ]
  },
  {
   "cell_type": "markdown",
   "metadata": {},
   "source": [
    "### beautiful soup\n",
    "```sh\n",
    "pip install beautifulsoup4\n",
    "```"
   ]
  },
  {
   "cell_type": "markdown",
   "metadata": {},
   "source": [
    "### git\n",
    "```sh\n",
    "git config --global user.name \"user\"\n",
    "git config --global user.email \"user@gmail.com\"\n",
    "```"
   ]
  },
  {
   "cell_type": "markdown",
   "metadata": {},
   "source": [
    "### strapi\n",
    "[https://github.com/strapi/strapi](https://github.com/strapi/strapi)\n",
    "```sh\n",
    "yarn create strapi\n",
    "npx create-strapi@latest\n",
    "```"
   ]
  },
  {
   "cell_type": "markdown",
   "metadata": {},
   "source": [
    "### reflex\n",
    "[https://github.com/reflex-dev/reflex](https://github.com/reflex-dev/reflex)"
   ]
  },
  {
   "cell_type": "markdown",
   "metadata": {},
   "source": [
    "### youtube\n",
    "\n",
    "클립다운 : 연속다운로드 지원"
   ]
  }
 ],
 "metadata": {
  "language_info": {
   "name": "python"
  }
 },
 "nbformat": 4,
 "nbformat_minor": 2
}
