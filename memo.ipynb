{
 "cells": [
  {
   "cell_type": "markdown",
   "metadata": {},
   "source": [
    "### code runner python 실행시 결과창 콘솔에서 한글 깨질경우\n",
    "```json\n",
    "\"code-runner.executorMap\": {\n",
    "    \"python\": \"set PYTHONIOENCODING=utf8 && python -u\",\n",
    "}\n",
    "```"
   ]
  },
  {
   "cell_type": "markdown",
   "metadata": {},
   "source": [
    "### pypy에서 pip 설치\n",
    "\n",
    "https://bootstrap.pypa.io/get-pip.py\n",
    "\n",
    "pypy get-pip.py"
   ]
  }
 ],
 "metadata": {
  "language_info": {
   "name": "python"
  }
 },
 "nbformat": 4,
 "nbformat_minor": 2
}
